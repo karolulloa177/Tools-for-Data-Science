{
 "cells": [
  {
   "cell_type": "markdown",
   "id": "58f48fbf-785d-49e6-9fbd-4ff3bb279b48",
   "metadata": {},
   "source": [
    "# Data Science Tools and Ecosystem"
   ]
  },
  {
   "cell_type": "markdown",
   "id": "e21f3ea8-e3af-47b4-a2e3-ee60fe7d3f63",
   "metadata": {},
   "source": [
    "##### In this Jupyther notebook, the tools and ecosystem of data science are summarized."
   ]
  },
  {
   "cell_type": "markdown",
   "id": "2a185c7e-e048-4db4-8b80-4a34b169ee5b",
   "metadata": {},
   "source": [
    "#### **Objectives:**\n",
    "- Add comments to code cells\n",
    "- Create markdown cells\n",
    "- Format content of markdown cells with heading styles\n",
    "- Add ordered and unordered lists to markdown cells"
   ]
  },
  {
   "cell_type": "markdown",
   "id": "f7a34a5b-08d4-426c-9cfe-a8b6b72f3514",
   "metadata": {},
   "source": [
    "##### Some of the popular languages that Data Scientist use are:\n",
    "1. Python\n",
    "2. Java\n",
    "3. R\n",
    "4. SQL\n",
    "6. Scala"
   ]
  },
  {
   "cell_type": "markdown",
   "id": "f3448ede-ee6a-4a30-9aae-e69d519196dc",
   "metadata": {},
   "source": [
    "##### Here are some of the commonly used libraries used by Data Scientist:\n",
    "1. Pandas\n",
    "2. NumPy\n",
    "3. PyTorch\n",
    "4. Scikit-learn\n",
    "5. Apache Spark"
   ]
  },
  {
   "cell_type": "markdown",
   "id": "44d1614c-91c0-47da-ac68-88c0fa370a9b",
   "metadata": {},
   "source": [
    "| Data Science Tools |\n",
    "| -------------|\n",
    "| Jupyter Notebooks |\n",
    "| Anaconda |\n",
    "|R Studio |"
   ]
  },
  {
   "cell_type": "markdown",
   "id": "5f20f004-e197-42e2-b053-e2f4cabb5fc6",
   "metadata": {},
   "source": [
    "### Here are some examples of evaluating arithmetic expressions in Python:"
   ]
  },
  {
   "cell_type": "code",
   "execution_count": 5,
   "id": "d1d92359-b5fb-4059-bb94-b9b4710244af",
   "metadata": {},
   "outputs": [
    {
     "data": {
      "text/plain": [
       "17"
      ]
     },
     "execution_count": 5,
     "metadata": {},
     "output_type": "execute_result"
    }
   ],
   "source": [
    "#This a simple arithmetic expression to multiply then add integers\n",
    "(3*4)+5"
   ]
  },
  {
   "cell_type": "code",
   "execution_count": 7,
   "id": "35c7dd18-7254-46b2-b00d-c2bb5763d69f",
   "metadata": {},
   "outputs": [
    {
     "data": {
      "text/plain": [
       "3.3333333333333335"
      ]
     },
     "execution_count": 7,
     "metadata": {},
     "output_type": "execute_result"
    }
   ],
   "source": [
    "#This will convert 200 minutes to hours by dividing by 60\n",
    "200/60"
   ]
  },
  {
   "cell_type": "markdown",
   "id": "b28c124e-2a2c-4994-b531-e4dab3ac01f6",
   "metadata": {},
   "source": [
    "## Author\n",
    "##### Karol Ulloa"
   ]
  }
 ],
 "metadata": {
  "kernelspec": {
   "display_name": "Python 3 (ipykernel)",
   "language": "python",
   "name": "python3"
  },
  "language_info": {
   "codemirror_mode": {
    "name": "ipython",
    "version": 3
   },
   "file_extension": ".py",
   "mimetype": "text/x-python",
   "name": "python",
   "nbconvert_exporter": "python",
   "pygments_lexer": "ipython3",
   "version": "3.12.8"
  }
 },
 "nbformat": 4,
 "nbformat_minor": 5
}
